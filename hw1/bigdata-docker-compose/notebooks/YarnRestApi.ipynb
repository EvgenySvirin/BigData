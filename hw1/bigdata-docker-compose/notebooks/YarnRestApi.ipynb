{
 "cells": [
  {
   "cell_type": "markdown",
   "id": "efd8e5b6-f62c-4fa1-bd46-b1e6e59858c8",
   "metadata": {},
   "source": [
    "## Устанавливаем библиотеку ярна"
   ]
  },
  {
   "cell_type": "code",
   "execution_count": 1,
   "id": "33b29aaa-4991-491a-9e3e-0218c5334e87",
   "metadata": {},
   "outputs": [
    {
     "name": "stdout",
     "output_type": "stream",
     "text": [
      "Collecting yarn-api-client\n",
      "  Downloading yarn_api_client-1.0.3-py3-none-any.whl (26 kB)\n",
      "Requirement already satisfied: requests<3.0,>=2.7 in /usr/local/lib/python3.10/dist-packages (from yarn-api-client) (2.31.0)\n",
      "Requirement already satisfied: idna<4,>=2.5 in /usr/local/lib/python3.10/dist-packages (from requests<3.0,>=2.7->yarn-api-client) (3.6)\n",
      "Requirement already satisfied: charset-normalizer<4,>=2 in /usr/local/lib/python3.10/dist-packages (from requests<3.0,>=2.7->yarn-api-client) (3.3.2)\n",
      "Requirement already satisfied: certifi>=2017.4.17 in /usr/local/lib/python3.10/dist-packages (from requests<3.0,>=2.7->yarn-api-client) (2023.11.17)\n",
      "Requirement already satisfied: urllib3<3,>=1.21.1 in /usr/local/lib/python3.10/dist-packages (from requests<3.0,>=2.7->yarn-api-client) (2.1.0)\n",
      "Installing collected packages: yarn-api-client\n",
      "Successfully installed yarn-api-client-1.0.3\n",
      "\u001b[33mWARNING: Running pip as the 'root' user can result in broken permissions and conflicting behaviour with the system package manager. It is recommended to use a virtual environment instead: https://pip.pypa.io/warnings/venv\u001b[0m\u001b[33m\n",
      "\u001b[0m"
     ]
    }
   ],
   "source": [
    "!pip install yarn-api-client"
   ]
  },
  {
   "cell_type": "markdown",
   "id": "f9bd04fe-f50b-4c95-8387-b3e04bb50231",
   "metadata": {},
   "source": [
    "## Импортим нужные классы"
   ]
  },
  {
   "cell_type": "code",
   "execution_count": 2,
   "id": "906348ca-20b5-4115-bdae-05854bb66b2e",
   "metadata": {},
   "outputs": [],
   "source": [
    "from yarn_api_client import ResourceManager\n",
    "from yarn_api_client.constants import NEW, ACCEPTED, RUNNING, FINISHED, SUCCEEDED"
   ]
  },
  {
   "cell_type": "markdown",
   "id": "61207a09-d028-413a-8346-9ce1480512f4",
   "metadata": {},
   "source": [
    "## Устанавливаем соединение с ресурс менеджером"
   ]
  },
  {
   "cell_type": "code",
   "execution_count": 3,
   "id": "72cec903-a882-4c8e-8e28-72eeefc614d1",
   "metadata": {},
   "outputs": [],
   "source": [
    "resource_manager = ResourceManager(['http://resourcemanager:8088/cluster'])"
   ]
  },
  {
   "cell_type": "markdown",
   "id": "7a14e134-2ebd-46a9-9601-6cc6bbb949d1",
   "metadata": {},
   "source": [
    "## Выбираем все приложения, у которых стейт совпадает с тем, что мы указали"
   ]
  },
  {
   "cell_type": "code",
   "execution_count": 4,
   "id": "0b1fb9ee-b5d6-43f2-9b79-41d8b23cf903",
   "metadata": {},
   "outputs": [],
   "source": [
    "active_apps = resource_manager.cluster_applications(\n",
    "    states=[NEW, ACCEPTED, RUNNING, FINISHED]\n",
    ").data"
   ]
  },
  {
   "cell_type": "code",
   "execution_count": 5,
   "id": "e0284c0e-dd91-4cc0-b4ad-5e082a7489bc",
   "metadata": {},
   "outputs": [
    {
     "data": {
      "text/plain": [
       "{'apps': {'app': [{'id': 'application_1706735779996_0001',\n",
       "    'user': 'root',\n",
       "    'name': 'word count',\n",
       "    'queue': 'default',\n",
       "    'state': 'FINISHED',\n",
       "    'finalStatus': 'SUCCEEDED',\n",
       "    'progress': 100.0,\n",
       "    'trackingUI': 'History',\n",
       "    'trackingUrl': 'http://resourcemanager:8088/proxy/application_1706735779996_0001/',\n",
       "    'diagnostics': '',\n",
       "    'clusterId': 1706735779996,\n",
       "    'applicationType': 'MAPREDUCE',\n",
       "    'applicationTags': '',\n",
       "    'priority': 0,\n",
       "    'startedTime': 1706737446992,\n",
       "    'launchTime': 1706737447494,\n",
       "    'finishedTime': 1706737458981,\n",
       "    'elapsedTime': 11989,\n",
       "    'amContainerLogs': 'http://nodemanager1:8042/node/containerlogs/container_1706735779996_0001_01_000001/root',\n",
       "    'amHostHttpAddress': 'nodemanager1:8042',\n",
       "    'amRPCAddress': 'nodemanager1:46417',\n",
       "    'masterNodeId': 'nodemanager1:42645',\n",
       "    'allocatedMB': -1,\n",
       "    'allocatedVCores': -1,\n",
       "    'reservedMB': -1,\n",
       "    'reservedVCores': -1,\n",
       "    'runningContainers': -1,\n",
       "    'memorySeconds': 31730,\n",
       "    'vcoreSeconds': 20,\n",
       "    'queueUsagePercentage': 0.0,\n",
       "    'clusterUsagePercentage': 0.0,\n",
       "    'resourceSecondsMap': {'entry': {'key': 'vcores', 'value': '20'}},\n",
       "    'preemptedResourceMB': 0,\n",
       "    'preemptedResourceVCores': 0,\n",
       "    'numNonAMContainerPreempted': 0,\n",
       "    'numAMContainerPreempted': 0,\n",
       "    'preemptedMemorySeconds': 0,\n",
       "    'preemptedVcoreSeconds': 0,\n",
       "    'preemptedResourceSecondsMap': {},\n",
       "    'logAggregationStatus': 'DISABLED',\n",
       "    'unmanagedApplication': False,\n",
       "    'amNodeLabelExpression': '',\n",
       "    'timeouts': {'timeout': [{'type': 'LIFETIME',\n",
       "       'expiryTime': 'UNLIMITED',\n",
       "       'remainingTimeInSeconds': -1}]}},\n",
       "   {'id': 'application_1706735779996_0002',\n",
       "    'user': 'root',\n",
       "    'name': 'QuasiMonteCarlo',\n",
       "    'queue': 'default',\n",
       "    'state': 'FINISHED',\n",
       "    'finalStatus': 'SUCCEEDED',\n",
       "    'progress': 100.0,\n",
       "    'trackingUI': 'History',\n",
       "    'trackingUrl': 'http://resourcemanager:8088/proxy/application_1706735779996_0002/',\n",
       "    'diagnostics': '',\n",
       "    'clusterId': 1706735779996,\n",
       "    'applicationType': 'MAPREDUCE',\n",
       "    'applicationTags': '',\n",
       "    'priority': 0,\n",
       "    'startedTime': 1706737906907,\n",
       "    'launchTime': 1706737907471,\n",
       "    'finishedTime': 1706737931879,\n",
       "    'elapsedTime': 24972,\n",
       "    'amContainerLogs': 'http://nodemanager1:8042/node/containerlogs/container_1706735779996_0002_01_000001/root',\n",
       "    'amHostHttpAddress': 'nodemanager1:8042',\n",
       "    'amRPCAddress': 'nodemanager1:45237',\n",
       "    'masterNodeId': 'nodemanager1:42645',\n",
       "    'allocatedMB': -1,\n",
       "    'allocatedVCores': -1,\n",
       "    'reservedMB': -1,\n",
       "    'reservedVCores': -1,\n",
       "    'runningContainers': -1,\n",
       "    'memorySeconds': 90026,\n",
       "    'vcoreSeconds': 63,\n",
       "    'queueUsagePercentage': 0.0,\n",
       "    'clusterUsagePercentage': 0.0,\n",
       "    'resourceSecondsMap': {'entry': {'key': 'vcores', 'value': '63'}},\n",
       "    'preemptedResourceMB': 0,\n",
       "    'preemptedResourceVCores': 0,\n",
       "    'numNonAMContainerPreempted': 0,\n",
       "    'numAMContainerPreempted': 0,\n",
       "    'preemptedMemorySeconds': 0,\n",
       "    'preemptedVcoreSeconds': 0,\n",
       "    'preemptedResourceSecondsMap': {},\n",
       "    'logAggregationStatus': 'DISABLED',\n",
       "    'unmanagedApplication': False,\n",
       "    'amNodeLabelExpression': '',\n",
       "    'timeouts': {'timeout': [{'type': 'LIFETIME',\n",
       "       'expiryTime': 'UNLIMITED',\n",
       "       'remainingTimeInSeconds': -1}]}}]}}"
      ]
     },
     "execution_count": 5,
     "metadata": {},
     "output_type": "execute_result"
    }
   ],
   "source": [
    "active_apps"
   ]
  },
  {
   "cell_type": "code",
   "execution_count": null,
   "id": "5faaefd6-e7c9-4546-9db3-88c912f0f4c4",
   "metadata": {},
   "outputs": [],
   "source": []
  }
 ],
 "metadata": {
  "kernelspec": {
   "display_name": "Python 3 (ipykernel)",
   "language": "python",
   "name": "python3"
  },
  "language_info": {
   "codemirror_mode": {
    "name": "ipython",
    "version": 3
   },
   "file_extension": ".py",
   "mimetype": "text/x-python",
   "name": "python",
   "nbconvert_exporter": "python",
   "pygments_lexer": "ipython3",
   "version": "3.10.12"
  }
 },
 "nbformat": 4,
 "nbformat_minor": 5
}
